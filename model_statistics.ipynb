{
 "cells": [
  {
   "cell_type": "markdown",
   "metadata": {},
   "source": [
    "#### Imports"
   ]
  },
  {
   "cell_type": "code",
   "execution_count": 1,
   "metadata": {},
   "outputs": [],
   "source": [
    "! pip install tensorflow keras --quiet\n",
    "! pip install seaborn --quiet\n",
    "! pip install pyyaml h5py --quiet  # Required to save models in HDF5 format"
   ]
  },
  {
   "cell_type": "code",
   "execution_count": 2,
   "metadata": {},
   "outputs": [
    {
     "name": "stderr",
     "output_type": "stream",
     "text": [
      "2025-05-22 17:31:26.077271: I tensorflow/core/util/port.cc:153] oneDNN custom operations are on. You may see slightly different numerical results due to floating-point round-off errors from different computation orders. To turn them off, set the environment variable `TF_ENABLE_ONEDNN_OPTS=0`.\n",
      "2025-05-22 17:31:26.232183: E external/local_xla/xla/stream_executor/cuda/cuda_fft.cc:467] Unable to register cuFFT factory: Attempting to register factory for plugin cuFFT when one has already been registered\n",
      "WARNING: All log messages before absl::InitializeLog() is called are written to STDERR\n",
      "E0000 00:00:1747935086.294001    2072 cuda_dnn.cc:8579] Unable to register cuDNN factory: Attempting to register factory for plugin cuDNN when one has already been registered\n",
      "E0000 00:00:1747935086.312082    2072 cuda_blas.cc:1407] Unable to register cuBLAS factory: Attempting to register factory for plugin cuBLAS when one has already been registered\n",
      "W0000 00:00:1747935086.440506    2072 computation_placer.cc:177] computation placer already registered. Please check linkage and avoid linking the same target more than once.\n",
      "W0000 00:00:1747935086.440549    2072 computation_placer.cc:177] computation placer already registered. Please check linkage and avoid linking the same target more than once.\n",
      "W0000 00:00:1747935086.440551    2072 computation_placer.cc:177] computation placer already registered. Please check linkage and avoid linking the same target more than once.\n",
      "W0000 00:00:1747935086.440554    2072 computation_placer.cc:177] computation placer already registered. Please check linkage and avoid linking the same target more than once.\n",
      "2025-05-22 17:31:26.463384: I tensorflow/core/platform/cpu_feature_guard.cc:210] This TensorFlow binary is optimized to use available CPU instructions in performance-critical operations.\n",
      "To enable the following instructions: AVX2 AVX512F AVX512_VNNI FMA, in other operations, rebuild TensorFlow with the appropriate compiler flags.\n"
     ]
    }
   ],
   "source": [
    "# dataset\n",
    "import shutil\n",
    "import os\n",
    "\n",
    "import pandas as pd\n",
    "import collections\n",
    "\n",
    "# model\n",
    "import numpy as np\n",
    "import tensorflow as tf\n",
    "import keras\n",
    "import time\n",
    "\n",
    "# graphs/stats\n",
    "import matplotlib.pyplot as plt\n",
    "import seaborn as sns\n",
    "from sklearn.metrics import (\n",
    "    classification_report,\n",
    "    confusion_matrix,\n",
    "    roc_auc_score,\n",
    "    roc_curve,\n",
    "    precision_recall_curve\n",
    ")"
   ]
  },
  {
   "cell_type": "markdown",
   "metadata": {},
   "source": [
    "#### Dataset loading and preprocessing"
   ]
  },
  {
   "cell_type": "code",
   "execution_count": 3,
   "metadata": {},
   "outputs": [],
   "source": [
    "# dataset folder\n",
    "directory = \"./cell_images\"\n",
    "\n",
    "filepath = []\n",
    "label = []\n",
    "\n",
    "folds = os.listdir(directory)\n",
    "\n",
    "for fold in folds:\n",
    "    f_path = os.path.join(directory, fold)\n",
    "    imgs = os.listdir(f_path)\n",
    "    for img in imgs:\n",
    "        img_path = os.path.join(f_path, img)\n",
    "        filepath.append(img_path)\n",
    "        label.append(fold)\n",
    "\n",
    "# Concatenate data paths with labels\n",
    "file_path_series = pd.Series(filepath, name='filepath')\n",
    "Label_path_series = pd.Series(label, name='label')\n",
    "df_train = pd.concat([file_path_series, Label_path_series], axis=1)"
   ]
  },
  {
   "cell_type": "code",
   "execution_count": 4,
   "metadata": {},
   "outputs": [
    {
     "name": "stdout",
     "output_type": "stream",
     "text": [
      "Loading and splitting the tf_dataset\n",
      "Found 27558 files belonging to 2 classes.\n",
      "Using 22047 files for training.\n",
      "Using 5511 files for validation.\n"
     ]
    },
    {
     "name": "stderr",
     "output_type": "stream",
     "text": [
      "I0000 00:00:1747935099.564862    2072 gpu_device.cc:2019] Created device /job:localhost/replica:0/task:0/device:GPU:0 with 20763 MB memory:  -> device: 0, name: NVIDIA L4, pci bus id: 0000:00:04.0, compute capability: 8.9\n"
     ]
    },
    {
     "name": "stdout",
     "output_type": "stream",
     "text": [
      "Actually the last one is the test set (issue of keras.utils function)\n"
     ]
    }
   ],
   "source": [
    "# splitting the dataset and getting class names\n",
    "img_height = 128\n",
    "img_width = 128\n",
    "batch_size = 32\n",
    "SEED = 123 # for reproducibility\n",
    "\n",
    "# training, test set split\n",
    "# resizing already handled by TensorFlow\n",
    "# no need to reshape\n",
    "\n",
    "print('Loading and splitting the tf_dataset')\n",
    "train_set, test_set = keras.utils.image_dataset_from_directory(\n",
    "  directory,\n",
    "  validation_split=0.2,  # 80/20%\n",
    "  subset=\"both\",\n",
    "  seed=SEED,\n",
    "  image_size=(img_height, img_width),\n",
    "  batch_size=batch_size,\n",
    "  label_mode='binary'    # parasitized/uninfected\n",
    ")\n",
    "print(\"Actually the last one is the test set (issue of keras.utils function)\")"
   ]
  },
  {
   "cell_type": "code",
   "execution_count": 5,
   "metadata": {},
   "outputs": [],
   "source": [
    "train_set = train_set.map(lambda x, y: (x/255, y))\n",
    "test_set = test_set.map(lambda x, y: (x/255, y))\n",
    "\n",
    "test_set = test_set.cache().prefetch(buffer_size=tf.data.AUTOTUNE)"
   ]
  },
  {
   "cell_type": "markdown",
   "metadata": {},
   "source": [
    "#### Statistics computation"
   ]
  },
  {
   "cell_type": "markdown",
   "metadata": {},
   "source": [
    "##### Model evaluation"
   ]
  },
  {
   "cell_type": "markdown",
   "metadata": {},
   "source": [
    "we start by loading both models from the saved files"
   ]
  },
  {
   "cell_type": "code",
   "execution_count": 6,
   "metadata": {},
   "outputs": [],
   "source": [
    "# load both models\n",
    "lightCNN = keras.saving.load_model('./saved_model/malaria_det.keras')\n",
    "baseline = keras.saving.load_model('./saved_model/malaria_mobile_net.keras')"
   ]
  },
  {
   "cell_type": "code",
   "execution_count": 7,
   "metadata": {},
   "outputs": [],
   "source": [
    "def evaluate_model(model, test_set):\n",
    "    y_true, y_probs = [], []\n",
    "\n",
    "    for x_batch, y_batch in test_set:\n",
    "        preds = model.predict(x_batch, verbose=0).ravel()\n",
    "        y_probs.extend(preds)\n",
    "        y_true.extend(y_batch.numpy())\n",
    "\n",
    "    y_true = np.array(y_true)\n",
    "    y_probs = np.array(y_probs)\n",
    "    y_pred = (y_probs > 0.5).astype(int) # if more than 0.5 classify it as 1\n",
    "\n",
    "    return y_true, y_probs, y_pred"
   ]
  },
  {
   "cell_type": "code",
   "execution_count": 8,
   "metadata": {},
   "outputs": [
    {
     "name": "stderr",
     "output_type": "stream",
     "text": [
      "WARNING: All log messages before absl::InitializeLog() is called are written to STDERR\n",
      "I0000 00:00:1747935107.810619    2828 service.cc:152] XLA service 0x7eeadc00ace0 initialized for platform CUDA (this does not guarantee that XLA will be used). Devices:\n",
      "I0000 00:00:1747935107.810992    2828 service.cc:160]   StreamExecutor device (0): NVIDIA L4, Compute Capability 8.9\n",
      "2025-05-22 17:31:47.873739: I tensorflow/compiler/mlir/tensorflow/utils/dump_mlir_util.cc:269] disabling MLIR crash reproducer, set env var `MLIR_CRASH_REPRODUCER_DIRECTORY` to enable.\n",
      "I0000 00:00:1747935107.970926    2828 cuda_dnn.cc:529] Loaded cuDNN version 90701\n",
      "2025-05-22 17:31:49.556912: I external/local_xla/xla/stream_executor/cuda/subprocess_compilation.cc:346] ptxas warning : Registers are spilled to local memory in function 'gemm_fusion_dot_193', 52 bytes spill stores, 52 bytes spill loads\n",
      "\n",
      "I0000 00:00:1747935111.332909    2828 device_compiler.h:188] Compiled cluster using XLA!  This line is logged at most once for the lifetime of the process.\n",
      "2025-05-22 17:32:10.614729: I tensorflow/core/framework/local_rendezvous.cc:407] Local rendezvous is aborting with status: OUT_OF_RANGE: End of sequence\n",
      "2025-05-22 17:32:14.012597: E external/local_xla/xla/stream_executor/cuda/cuda_timer.cc:86] Delay kernel timed out: measured time has sub-optimal accuracy. There may be a missing warmup execution, please investigate in Nsight Systems.\n",
      "2025-05-22 17:32:14.123223: E external/local_xla/xla/stream_executor/cuda/cuda_timer.cc:86] Delay kernel timed out: measured time has sub-optimal accuracy. There may be a missing warmup execution, please investigate in Nsight Systems.\n",
      "2025-05-22 17:32:14.233925: E external/local_xla/xla/stream_executor/cuda/cuda_timer.cc:86] Delay kernel timed out: measured time has sub-optimal accuracy. There may be a missing warmup execution, please investigate in Nsight Systems.\n",
      "2025-05-22 17:32:14.343255: E external/local_xla/xla/stream_executor/cuda/cuda_timer.cc:86] Delay kernel timed out: measured time has sub-optimal accuracy. There may be a missing warmup execution, please investigate in Nsight Systems.\n",
      "2025-05-22 17:32:35.780632: E external/local_xla/xla/stream_executor/cuda/cuda_timer.cc:86] Delay kernel timed out: measured time has sub-optimal accuracy. There may be a missing warmup execution, please investigate in Nsight Systems.\n",
      "2025-05-22 17:32:35.890118: E external/local_xla/xla/stream_executor/cuda/cuda_timer.cc:86] Delay kernel timed out: measured time has sub-optimal accuracy. There may be a missing warmup execution, please investigate in Nsight Systems.\n",
      "2025-05-22 17:32:35.999943: E external/local_xla/xla/stream_executor/cuda/cuda_timer.cc:86] Delay kernel timed out: measured time has sub-optimal accuracy. There may be a missing warmup execution, please investigate in Nsight Systems.\n",
      "2025-05-22 17:32:37.675200: I tensorflow/core/framework/local_rendezvous.cc:407] Local rendezvous is aborting with status: OUT_OF_RANGE: End of sequence\n"
     ]
    }
   ],
   "source": [
    "# Evaluate both models\n",
    "y_true_1, y_probs_1, y_pred_1 = evaluate_model(lightCNN, test_set)\n",
    "y_true_2, y_probs_2, y_pred_2 = evaluate_model(baseline, test_set)\n",
    "\n",
    "# Create output directory\n",
    "output_dir = \"statistics\"\n",
    "os.makedirs(output_dir, exist_ok=True)"
   ]
  },
  {
   "cell_type": "markdown",
   "metadata": {},
   "source": [
    "##### Classification reports"
   ]
  },
  {
   "cell_type": "code",
   "execution_count": 9,
   "metadata": {},
   "outputs": [
    {
     "name": "stdout",
     "output_type": "stream",
     "text": [
      "LightCNN Classification Report\n",
      "              precision    recall  f1-score   support\n",
      "\n",
      "  Uninfected       0.98      0.94      0.96      2709\n",
      " Parasitized       0.94      0.98      0.96      2802\n",
      "\n",
      "    accuracy                           0.96      5511\n",
      "   macro avg       0.96      0.96      0.96      5511\n",
      "weighted avg       0.96      0.96      0.96      5511\n",
      "\n",
      "LightCNN AUC-ROC: 0.9907\n",
      "\n",
      "Baseline Classification Report\n",
      "              precision    recall  f1-score   support\n",
      "\n",
      "  Uninfected       0.97      0.96      0.97      2709\n",
      " Parasitized       0.96      0.98      0.97      2802\n",
      "\n",
      "    accuracy                           0.97      5511\n",
      "   macro avg       0.97      0.97      0.97      5511\n",
      "weighted avg       0.97      0.97      0.97      5511\n",
      "\n",
      "Baseline AUC-ROC: 0.9925\n",
      "\n"
     ]
    }
   ],
   "source": [
    "# Print reports\n",
    "print(\"LightCNN Classification Report\")\n",
    "print(classification_report(y_true_1, y_pred_1, target_names=['Uninfected', 'Parasitized']))\n",
    "print(f\"LightCNN AUC-ROC: {roc_auc_score(y_true_1, y_probs_1):.4f}\\n\")\n",
    "\n",
    "print(\"Baseline Classification Report\")\n",
    "print(classification_report(y_true_2, y_pred_2, target_names=['Uninfected', 'Parasitized']))\n",
    "print(f\"Baseline AUC-ROC: {roc_auc_score(y_true_2, y_probs_2):.4f}\\n\")"
   ]
  },
  {
   "cell_type": "markdown",
   "metadata": {},
   "source": [
    "##### ROC curves"
   ]
  },
  {
   "cell_type": "code",
   "execution_count": 10,
   "metadata": {},
   "outputs": [
    {
     "data": {
      "image/png": "[encoded data removed]",
      "text/plain": [
       "<Figure size 400x260 with 1 Axes>"
      ]
     },
     "metadata": {},
     "output_type": "display_data"
    }
   ],
   "source": [
    "fpr1, tpr1, _ = roc_curve(y_true_1, y_probs_1)\n",
    "fpr2, tpr2, _ = roc_curve(y_true_2, y_probs_2)\n",
    "\n",
    "plt.figure(figsize=(4, 2.6))  # Smaller overall figure\n",
    "plt.plot(fpr1, tpr1, label=f\"LightCNN (AUC = {roc_auc_score(y_true_1, y_probs_1):.4f})\", linewidth=1.5)\n",
    "plt.plot(fpr2, tpr2, label=f\"Baseline (AUC = {roc_auc_score(y_true_2, y_probs_2):.4f})\", linewidth=1.5)\n",
    "plt.plot([0, 1], [0, 1], linestyle='--', color='gray', linewidth=1)\n",
    "\n",
    "plt.xlabel(\"False Positive Rate\", fontsize=11)\n",
    "plt.ylabel(\"True Positive Rate\", fontsize=11)\n",
    "plt.title(\"ROC Curve\", fontsize=12)\n",
    "plt.legend(fontsize=10, loc='lower right')\n",
    "plt.grid(True, linewidth=0.5)\n",
    "\n",
    "plt.tight_layout(pad=0.5)  # Reduce padding around the plot\n",
    "roc_path = os.path.join(output_dir, \"roc_curve_models.pdf\")\n",
    "plt.savefig(roc_path, bbox_inches='tight')  # Ensure tight bounding box\n",
    "plt.show()"
   ]
  },
  {
   "cell_type": "markdown",
   "metadata": {},
   "source": [
    "##### Precision/Recall curves"
   ]
  },
  {
   "cell_type": "code",
   "execution_count": 11,
   "metadata": {},
   "outputs": [
    {
     "data": {
      "image/png": "[encoded data removed]",
      "text/plain": [
       "<Figure size 400x300 with 1 Axes>"
      ]
     },
     "metadata": {},
     "output_type": "display_data"
    }
   ],
   "source": [
    "precision1, recall1, _ = precision_recall_curve(y_true_1, y_probs_1)\n",
    "precision2, recall2, _ = precision_recall_curve(y_true_2, y_probs_2)\n",
    "\n",
    "plt.figure(figsize=(4, 3))  # Smaller overall figure\n",
    "plt.plot(recall1, precision1, label=\"LightCNN\", color='blue', linewidth=1.5)\n",
    "plt.plot(recall2, precision2, label=\"Baseline\", color='purple', linewidth=1.5)\n",
    "\n",
    "plt.xlabel(\"Recall\", fontsize=11)\n",
    "plt.ylabel(\"Precision\", fontsize=11)\n",
    "plt.title(\"Precision-Recall Curve\", fontsize=12)\n",
    "plt.legend(fontsize=10, loc='lower left')\n",
    "plt.grid(True, linewidth=0.5)\n",
    "\n",
    "plt.tight_layout(pad=0.5)  # Reduces padding around the plot\n",
    "prc_path = os.path.join(output_dir, \"precision_recall_curve_models.pdf\")\n",
    "plt.savefig(prc_path, bbox_inches='tight')  # Crops excess whitespace\n",
    "plt.show()"
   ]
  },
  {
   "cell_type": "markdown",
   "metadata": {},
   "source": [
    "##### Confusion matrices"
   ]
  },
  {
   "cell_type": "code",
   "execution_count": 12,
   "metadata": {},
   "outputs": [
    {
     "data": {
      "image/png": "[encoded data removed]",
      "text/plain": [
       "<Figure size 800x300 with 2 Axes>"
      ]
     },
     "metadata": {},
     "output_type": "display_data"
    }
   ],
   "source": [
    "cm1 = confusion_matrix(y_true_1, y_pred_1)\n",
    "cm2 = confusion_matrix(y_true_2, y_pred_2)\n",
    "\n",
    "fig, axes = plt.subplots(1, 2, figsize=(8, 3))  # Smaller figure size for LaTeX column\n",
    "\n",
    "sns.heatmap(cm1, annot=True, fmt='d', cmap='Blues', ax=axes[0],\n",
    "            xticklabels=['Uninfected', 'Parasitized'],\n",
    "            yticklabels=['Uninfected', 'Parasitized'],\n",
    "            square=True, linewidths=0.5,\n",
    "            annot_kws={\"size\": 14},\n",
    "            cbar=False)  # No color bar\n",
    "axes[0].set_title('LightCNN', fontsize=11)\n",
    "axes[0].set_xlabel('Predicted Label', fontsize=10)\n",
    "axes[0].set_ylabel('True Label', fontsize=10)\n",
    "\n",
    "sns.heatmap(cm2, annot=True, fmt='d', cmap='Purples', ax=axes[1],\n",
    "            xticklabels=['Uninfected', 'Parasitized'],\n",
    "            yticklabels=['Uninfected', 'Parasitized'],\n",
    "            square=True, linewidths=0.5,\n",
    "            annot_kws={\"size\": 14},\n",
    "            cbar=False)  # No color bar\n",
    "axes[1].set_title('Baseline', fontsize=11)\n",
    "axes[1].set_xlabel('Predicted Label', fontsize=10)\n",
    "axes[1].set_ylabel('True Label', fontsize=10)\n",
    "\n",
    "plt.tight_layout()\n",
    "confusion_path = os.path.join(output_dir, \"confusion_matrices_models.pdf\")\n",
    "plt.savefig(confusion_path, bbox_inches='tight')\n",
    "plt.show()"
   ]
  },
  {
   "cell_type": "markdown",
   "metadata": {},
   "source": [
    "##### Inference time and flops"
   ]
  },
  {
   "cell_type": "code",
   "execution_count": 13,
   "metadata": {},
   "outputs": [
    {
     "name": "stdout",
     "output_type": "stream",
     "text": [
      "LightCNN:\n",
      "WARNING:tensorflow:From /home/zeus/miniconda3/envs/cloudspace/lib/python3.10/site-packages/tensorflow/python/ops/nn_ops.py:5280: tensor_shape_from_node_def_name (from tensorflow.python.framework.graph_util_impl) is deprecated and will be removed in a future version.\n",
      "Instructions for updating:\n",
      "This API was designed for TensorFlow v1. See https://www.tensorflow.org/guide/migrate for instructions on how to migrate your code to TensorFlow v2.\n"
     ]
    },
    {
     "name": "stderr",
     "output_type": "stream",
     "text": [
      "I0000 00:00:1747935159.692895    2072 devices.cc:67] Number of eligible GPUs (core count >= 8, compute capability >= 0.0): 1\n",
      "I0000 00:00:1747935159.693495    2072 single_machine.cc:374] Starting new session\n",
      "I0000 00:00:1747935159.704755    2072 gpu_device.cc:2019] Created device /job:localhost/replica:0/task:0/device:GPU:0 with 20763 MB memory:  -> device: 0, name: NVIDIA L4, pci bus id: 0000:00:04.0, compute capability: 8.9\n"
     ]
    },
    {
     "name": "stdout",
     "output_type": "stream",
     "text": [
      "FLOPs: 24,785,153\n",
      "\n",
      "=========================Options=============================\n",
      "-max_depth                  10000\n",
      "-min_bytes                  0\n",
      "-min_peak_bytes             0\n",
      "-min_residual_bytes         0\n",
      "-min_output_bytes           0\n",
      "-min_micros                 0\n",
      "-min_accelerator_micros     0\n",
      "-min_cpu_micros             0\n",
      "-min_params                 0\n",
      "-min_float_ops              1\n",
      "-min_occurrence             0\n",
      "-step                       -1\n",
      "-order_by                   float_ops\n",
      "-account_type_regexes       .*\n",
      "-start_name_regexes         .*\n",
      "-trim_name_regexes          \n",
      "-show_name_regexes          .*\n",
      "-hide_name_regexes          \n",
      "-account_displayed_op_only  true\n",
      "-select                     float_ops\n",
      "-output                     stdout:\n",
      "\n",
      "==================Model Analysis Report======================\n",
      "\n",
      "Doc:\n",
      "op: The nodes are operation kernel type, such as MatMul, Conv2D. Graph nodes belonging to the same type are aggregated together.\n",
      "flops: Number of float operations. Note: Please read the implementation for the math behind it.\n",
      "\n",
      "Profile:\n",
      "node name | # float_ops\n",
      "Conv2D                   17.73m float_ops (100.00%, 71.52%)\n",
      "DepthwiseConv2dNative    4.09m float_ops (28.48%, 16.51%)\n",
      "Mul                      735.94k float_ops (11.97%, 2.97%)\n",
      "AddV2                    735.63k float_ops (9.00%, 2.97%)\n",
      "BiasAdd                  735.33k float_ops (6.03%, 2.97%)\n",
      "MaxPool                  735.23k float_ops (3.06%, 2.97%)\n",
      "MatMul                   17.09k float_ops (0.10%, 0.07%)\n",
      "Mean                     5.63k float_ops (0.03%, 0.02%)\n",
      "Rsqrt                      608 float_ops (0.00%, 0.00%)\n",
      "Sub                        304 float_ops (0.00%, 0.00%)\n",
      "\n",
      "======================End of Report==========================\n",
      "Avg inference time: 23.46 ms\n",
      "\n",
      "Baseline:\n"
     ]
    },
    {
     "name": "stderr",
     "output_type": "stream",
     "text": [
      "I0000 00:00:1747935163.285593    2072 devices.cc:67] Number of eligible GPUs (core count >= 8, compute capability >= 0.0): 1\n",
      "I0000 00:00:1747935163.285748    2072 single_machine.cc:374] Starting new session\n",
      "I0000 00:00:1747935163.293700    2072 gpu_device.cc:2019] Created device /job:localhost/replica:0/task:0/device:GPU:0 with 20763 MB memory:  -> device: 0, name: NVIDIA L4, pci bus id: 0000:00:04.0, compute capability: 8.9\n"
     ]
    },
    {
     "name": "stdout",
     "output_type": "stream",
     "text": [
      "\n",
      "=========================Options=============================\n",
      "-max_depth                  10000\n",
      "-min_bytes                  0\n",
      "-min_peak_bytes             0\n",
      "-min_residual_bytes         0\n",
      "-min_output_bytes           0\n",
      "-min_micros                 0\n",
      "-min_accelerator_micros     0\n",
      "-min_cpu_micros             0\n",
      "-min_params                 0\n",
      "-min_float_ops              1\n",
      "-min_occurrence             0\n",
      "-step                       -1\n",
      "-order_by                   float_ops\n",
      "-account_type_regexes       .*\n",
      "-start_name_regexes         .*\n",
      "-trim_name_regexes          \n",
      "-show_name_regexes          .*\n",
      "-hide_name_regexes          \n",
      "-account_displayed_op_only  true\n",
      "-select                     float_ops\n",
      "-output                     stdout:\n",
      "FLOPs: 200,645,121\n",
      "\n",
      "==================Model Analysis Report======================\n",
      "\n",
      "Doc:\n",
      "op: The nodes are operation kernel type, such as MatMul, Conv2D. Graph nodes belonging to the same type are aggregated together.\n",
      "flops: Number of float operations. Note: Please read the implementation for the math behind it.\n",
      "\n",
      "Profile:\n",
      "node name | # float_ops\n",
      "Conv2D                   182.06m float_ops (100.00%, 90.74%)\n",
      "DepthwiseConv2dNative    13.53m float_ops (9.26%, 6.74%)\n",
      "AddV2                    2.27m float_ops (2.52%, 1.13%)\n",
      "Mul                      2.22m float_ops (1.39%, 1.11%)\n",
      "MatMul                   491.90k float_ops (0.28%, 0.25%)\n",
      "Rsqrt                    36.67k float_ops (0.04%, 0.02%)\n",
      "Mean                     20.48k float_ops (0.02%, 0.01%)\n",
      "Sub                      18.34k float_ops (0.01%, 0.01%)\n",
      "BiasAdd                    192 float_ops (0.00%, 0.00%)\n",
      "\n",
      "======================End of Report==========================\n",
      "Avg inference time: 153.03 ms\n"
     ]
    }
   ],
   "source": [
    "def get_flops_v1(model, input_shape):\n",
    "    # Convert model to a concrete function\n",
    "    input_tensor = tf.TensorSpec([1, *input_shape], tf.float32)\n",
    "    concrete_func = tf.function(model).get_concrete_function(input_tensor)\n",
    "\n",
    "    # Get frozen graph\n",
    "    frozen_func = convert_to_constants(concrete_func)\n",
    "    graph_def = frozen_func.graph.as_graph_def()\n",
    "\n",
    "    # Profile the graph\n",
    "    with tf.Graph().as_default() as graph:\n",
    "        tf.compat.v1.import_graph_def(graph_def, name=\"\")\n",
    "        run_meta = tf.compat.v1.RunMetadata()\n",
    "        opts = tf.compat.v1.profiler.ProfileOptionBuilder.float_operation()\n",
    "        flops = tf.compat.v1.profiler.profile(graph=graph, run_meta=run_meta, cmd=\"op\", options=opts)\n",
    "        print(f\"FLOPs: {flops.total_float_ops:,}\")\n",
    "        return flops.total_float_ops\n",
    "\n",
    "def convert_to_constants(concrete_func):\n",
    "    from tensorflow.python.framework.convert_to_constants import convert_variables_to_constants_v2\n",
    "    return convert_variables_to_constants_v2(concrete_func)\n",
    "\n",
    "def measure_inference_time(model, input_shape, n_runs=100):\n",
    "    dummy_input = tf.random.normal((1, *input_shape))\n",
    "    model(dummy_input)  # Warm-up\n",
    "    start = time.time()\n",
    "    for _ in range(n_runs):\n",
    "        model(dummy_input)\n",
    "    end = time.time()\n",
    "    avg_ms = (end - start) / n_runs * 1000\n",
    "    print(f\"Avg inference time: {avg_ms:.2f} ms\")\n",
    "    return avg_ms\n",
    "\n",
    "# Define the input shape (excluding batch size), e.g., (224, 224, 3)\n",
    "input_shape = (128, 128, 3)\n",
    "\n",
    "print(\"LightCNN:\")\n",
    "flops1 = get_flops_v1(lightCNN, input_shape)\n",
    "time1 = measure_inference_time(lightCNN, input_shape)\n",
    "\n",
    "print(\"\\nBaseline:\")\n",
    "flops2 = get_flops_v1(baseline, input_shape)\n",
    "time2 = measure_inference_time(baseline, input_shape)"
   ]
  }
 ],
 "metadata": {
  "language_info": {
   "name": "python"
  }
 },
 "nbformat": 4,
 "nbformat_minor": 2
}
